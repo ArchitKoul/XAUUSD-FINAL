{
  "nbformat": 4,
  "nbformat_minor": 0,
  "metadata": {
    "colab": {
      "provenance": []
    },
    "kernelspec": {
      "name": "python3",
      "display_name": "Python 3"
    },
    "language_info": {
      "name": "python"
    }
  },
  "cells": [
    {
      "cell_type": "code",
      "source": [
        "import streamlit as st\n",
        "import pandas as pd\n",
        "import numpy as np\n",
        "import requests\n",
        "import matplotlib.pyplot as plt\n",
        "from streamlit_autorefresh import st_autorefresh\n",
        "\n",
        "# Auto-refresh every 60 seconds\n",
        "st_autorefresh(interval=60000, limit=None, key=\"refresh\")\n",
        "\n",
        "# Streamlit layout\n",
        "st.set_page_config(layout=\"wide\")\n",
        "st.title(\"📡 XAUUSD Live Signal Dashboard\")\n",
        "\n",
        "# Fetch real-time data from Twelve Data\n",
        "API_KEY = \"2215ad61f67742a2a6fb9d5043777a45\"  # Replace with your own key if needed\n",
        "symbol = \"XAU/USD\"\n",
        "interval = \"5min\"\n",
        "url = f\"https://api.twelvedata.com/time_series?symbol={symbol}&interval={interval}&apikey={API_KEY}&outputsize=30\"\n",
        "\n",
        "response = requests.get(url)\n",
        "data = response.json()\n",
        "\n",
        "# Convert to DataFrame\n",
        "df = pd.DataFrame(data['values'])\n",
        "df['datetime'] = pd.to_datetime(df['datetime'])\n",
        "df = df.sort_values('datetime')\n",
        "df['close'] = df['close'].astype(float)\n",
        "df['high'] = df['high'].astype(float)\n",
        "df['low'] = df['low'].astype(float)\n",
        "\n",
        "# Calculate technical indicators\n",
        "def calculate_technical_indicators(df):\n",
        "    delta = df['close'].diff()\n",
        "    gain = delta.mask(delta < 0, 0)\n",
        "    loss = delta.mask(delta > 0, 0).abs()\n",
        "    avg_gain = gain.ewm(com=14, min_periods=14).mean()\n",
        "    avg_loss = loss.ewm(com=14, min_periods=14).mean()\n",
        "    rs = avg_gain / avg_loss\n",
        "    df['RSI'] = 100 - (100 / (1 + rs))\n",
        "\n",
        "    exp1 = df['close'].ewm(span=12, adjust=False).mean()\n",
        "    exp2 = df['close'].ewm(span=26, adjust=False).mean()\n",
        "    df['MACD'] = exp1 - exp2\n",
        "    df['Signal_Line'] = df['MACD'].ewm(span=9, adjust=False).mean()\n",
        "\n",
        "    high_low = df['high'] - df['low']\n",
        "    high_close = np.abs(df['high'] - df['close'].shift())\n",
        "    low_close = np.abs(df['low'] - df['close'].shift())\n",
        "    tr = pd.concat([high_low, high_close, low_close], axis=1).max(axis=1)\n",
        "    df['ATR'] = tr.ewm(com=14, min_periods=14).mean()\n",
        "\n",
        "    df['ADX'] = df['close'].rolling(window=14).mean()  # Simplified placeholder\n",
        "    df['Volatility'] = df['close'].rolling(window=20).std()\n",
        "\n",
        "    return df\n",
        "\n",
        "df = calculate_technical_indicators(df)\n",
        "\n",
        "# Generate signal\n",
        "latest = df.iloc[-1]\n",
        "confidence_score = sum([\n",
        "    latest['RSI'] < 30,\n",
        "    latest['MACD'] > 0,\n",
        "    latest['ADX'] > 25,\n",
        "    latest['Volatility'] < df['Volatility'].rolling(20).mean().iloc[-1]\n",
        "])\n",
        "\n",
        "signal = {\n",
        "    \"Direction\": \"Buy\" if confidence_score >= 3 else \"Hold\",\n",
        "    \"Confidence\": confidence_score,\n",
        "    \"SL\": latest['ATR'] * 1.5,\n",
        "    \"TP\": latest['ATR'] * 2.5,\n",
        "    \"Time\": latest['datetime'].strftime(\"%H:%M %p\")\n",
        "}\n",
        "\n",
        "# Display signal panel\n",
        "st.subheader(\"📈 Live Signal\")\n",
        "st.metric(\"Direction\", signal[\"Direction\"])\n",
        "st.metric(\"Confidence Score\", f\"{signal['Confidence']}/4\")\n",
        "st.metric(\"Stop Loss\", f\"${signal['SL']:.2f}\")\n",
        "st.metric(\"Take Profit\", f\"${signal['TP']:.2f}\")\n",
        "st.write(f\"Signal Time: {signal['Time']}\")\n"
      ],
      "metadata": {
        "colab": {
          "base_uri": "https://localhost:8080/"
        },
        "id": "NGPD0B7i_R_Y",
        "outputId": "7837fccc-e5d1-4a13-e435-a1ebfdcce2f9"
      },
      "execution_count": 19,
      "outputs": [
        {
          "output_type": "stream",
          "name": "stderr",
          "text": [
            "2025-10-05 06:09:27.074 Thread 'MainThread': missing ScriptRunContext! This warning can be ignored when running in bare mode.\n",
            "2025-10-05 06:09:27.076 Thread 'MainThread': missing ScriptRunContext! This warning can be ignored when running in bare mode.\n",
            "2025-10-05 06:09:27.078 Thread 'MainThread': missing ScriptRunContext! This warning can be ignored when running in bare mode.\n",
            "2025-10-05 06:09:27.079 Thread 'MainThread': missing ScriptRunContext! This warning can be ignored when running in bare mode.\n",
            "2025-10-05 06:09:27.080 Thread 'MainThread': missing ScriptRunContext! This warning can be ignored when running in bare mode.\n",
            "2025-10-05 06:09:27.081 Thread 'MainThread': missing ScriptRunContext! This warning can be ignored when running in bare mode.\n",
            "2025-10-05 06:09:27.083 Thread 'MainThread': missing ScriptRunContext! This warning can be ignored when running in bare mode.\n",
            "2025-10-05 06:09:27.084 Thread 'MainThread': missing ScriptRunContext! This warning can be ignored when running in bare mode.\n",
            "2025-10-05 06:09:27.086 Thread 'MainThread': missing ScriptRunContext! This warning can be ignored when running in bare mode.\n",
            "2025-10-05 06:09:27.144 Thread 'MainThread': missing ScriptRunContext! This warning can be ignored when running in bare mode.\n",
            "2025-10-05 06:09:27.145 Thread 'MainThread': missing ScriptRunContext! This warning can be ignored when running in bare mode.\n",
            "2025-10-05 06:09:27.147 Thread 'MainThread': missing ScriptRunContext! This warning can be ignored when running in bare mode.\n",
            "2025-10-05 06:09:27.148 Thread 'MainThread': missing ScriptRunContext! This warning can be ignored when running in bare mode.\n",
            "2025-10-05 06:09:27.149 Thread 'MainThread': missing ScriptRunContext! This warning can be ignored when running in bare mode.\n",
            "2025-10-05 06:09:27.150 Thread 'MainThread': missing ScriptRunContext! This warning can be ignored when running in bare mode.\n",
            "2025-10-05 06:09:27.151 Thread 'MainThread': missing ScriptRunContext! This warning can be ignored when running in bare mode.\n",
            "2025-10-05 06:09:27.152 Thread 'MainThread': missing ScriptRunContext! This warning can be ignored when running in bare mode.\n",
            "2025-10-05 06:09:27.153 Thread 'MainThread': missing ScriptRunContext! This warning can be ignored when running in bare mode.\n",
            "2025-10-05 06:09:27.154 Thread 'MainThread': missing ScriptRunContext! This warning can be ignored when running in bare mode.\n",
            "2025-10-05 06:09:27.155 Thread 'MainThread': missing ScriptRunContext! This warning can be ignored when running in bare mode.\n",
            "2025-10-05 06:09:27.155 Thread 'MainThread': missing ScriptRunContext! This warning can be ignored when running in bare mode.\n",
            "2025-10-05 06:09:27.156 Thread 'MainThread': missing ScriptRunContext! This warning can be ignored when running in bare mode.\n",
            "2025-10-05 06:09:27.157 Thread 'MainThread': missing ScriptRunContext! This warning can be ignored when running in bare mode.\n",
            "2025-10-05 06:09:27.158 Thread 'MainThread': missing ScriptRunContext! This warning can be ignored when running in bare mode.\n",
            "2025-10-05 06:09:27.159 Thread 'MainThread': missing ScriptRunContext! This warning can be ignored when running in bare mode.\n",
            "2025-10-05 06:09:27.160 Thread 'MainThread': missing ScriptRunContext! This warning can be ignored when running in bare mode.\n",
            "2025-10-05 06:09:27.161 Thread 'MainThread': missing ScriptRunContext! This warning can be ignored when running in bare mode.\n"
          ]
        }
      ]
    },
    {
      "cell_type": "code",
      "source": [],
      "metadata": {
        "id": "0AYYcV2Y_UFE"
      },
      "execution_count": null,
      "outputs": []
    }
  ]
}